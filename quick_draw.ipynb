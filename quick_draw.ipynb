{
 "cells": [
  {
   "cell_type": "code",
   "execution_count": 18,
   "metadata": {},
   "outputs": [],
   "source": [
    "%config IPCompleter.greedy=True\n",
    "import os\n",
    "os.environ[\"KERAS_BACKEND\"] = \"plaidml.keras.backend\"\n",
    "os.environ['Bucket'] = \"gs://quickdraw_dataset/full/simplified/\""
   ]
  },
  {
   "cell_type": "code",
   "execution_count": 19,
   "metadata": {},
   "outputs": [],
   "source": [
    "import random\n",
    "import json\n",
    "import time\n",
    "import numpy as np\n",
    "import pandas as pd\n",
    "import uuid\n",
    "import h5py\n",
    "from multiprocessing import Pool\n",
    "from glob import glob\n",
    "from math import ceil\n",
    "from random import shuffle\n",
    "from matplotlib import pyplot as plt\n",
    "from PIL import Image, ImageDraw\n",
    "from keras import optimizers as keras_optimizer\n",
    "from keras import regularizers\n",
    "from keras.models import Sequential\n",
    "from keras.layers import Flatten, Dense, Conv2D, MaxPool2D, Dropout, BatchNormalization, Conv1D\n",
    "from keras.utils import to_categorical\n",
    "from keras.callbacks import ModelCheckpoint, TensorBoard\n",
    "from keras_tqdm import TQDMNotebookCallback\n",
    "from quick_draw_data import QuickDrawDataset as qdd\n",
    "#from model import QuickDrawModel as qdm"
   ]
  },
  {
   "cell_type": "markdown",
   "metadata": {},
   "source": [
    "# Pre-Process Quick Draw DataSet"
   ]
  },
  {
   "cell_type": "markdown",
   "metadata": {},
   "source": [
    "#### Download Random Files"
   ]
  },
  {
   "cell_type": "code",
   "execution_count": 20,
   "metadata": {},
   "outputs": [],
   "source": [
    "# List the google bucket\n",
    "urls = !gsutil ls $Bucket"
   ]
  },
  {
   "cell_type": "code",
   "execution_count": 21,
   "metadata": {},
   "outputs": [],
   "source": [
    "#Specify number of classes\n",
    "#This will be used globally\n",
    "num_classes = 10\n",
    "ndjson_path = './data' \n",
    "workers = 8"
   ]
  },
  {
   "cell_type": "code",
   "execution_count": 22,
   "metadata": {},
   "outputs": [],
   "source": [
    "if not os.path.isdir(ndjson_path):\n",
    "    os.mkdir(ndjson_path)\n",
    "    print(\"created folder: \", ndjson_path)"
   ]
  },
  {
   "cell_type": "code",
   "execution_count": 23,
   "metadata": {},
   "outputs": [],
   "source": [
    "def download_file(file_name_index):\n",
    "    file_name = urls[file_name_index]\n",
    "    print(file_name)\n",
    "    !gsutil cp \"$file_name\" ./data"
   ]
  },
  {
   "cell_type": "code",
   "execution_count": 24,
   "metadata": {},
   "outputs": [],
   "source": [
    "total_files = len(urls)\n",
    "random_index = [random.randint(0, total_files) for i in range(num_classes)]"
   ]
  },
  {
   "cell_type": "code",
   "execution_count": 25,
   "metadata": {},
   "outputs": [],
   "source": [
    "ndjson_files = glob(ndjson_path + '/*.ndjson')\n",
    "download_pool = Pool(workers)\n",
    "\n",
    "if (len(ndjson_files) > 0 and len(ndjson_files) < num_classes):\n",
    "    for file in ndjson_files:\n",
    "        os.unlink(file)\n",
    "    print(download_pool.map(download_file, random_index))\n",
    "\n",
    "if (len(ndjson_files) == 0):\n",
    "    print(download_pool.map(download_file, random_index))\n",
    "\n",
    "download_pool.close()"
   ]
  },
  {
   "cell_type": "markdown",
   "metadata": {},
   "source": [
    "#### Quick Draw Data prepration\n",
    "Class `QuickDrawDataset` convertes `strokes` data in `ndjson  files` to `numpy array` of shape = `(28, 28)`</br>\n",
    "into a single file named `data.hdf5` with following `datasets`:\n",
    "- `X_train`, `y_train`\n",
    "- `X_valid`, `y_valid`\n",
    "- `X_test`, `y_test`\n",
    "\n",
    "`QuickDrawDataset.splits` returns `DataGenerator` for train, validation and test sets.</br>\n",
    "Each iteration over `DataGenerators` gives a tuple containg features and labels of specified batch_size.</br>\n",
    "Default `batch_size` is 32"
   ]
  },
  {
   "cell_type": "markdown",
   "metadata": {},
   "source": [
    "#### Visualizing QuickDraw Data"
   ]
  },
  {
   "cell_type": "code",
   "execution_count": 27,
   "metadata": {},
   "outputs": [
    {
     "name": "stdout",
     "output_type": "stream",
     "text": [
      "Warning: Using exiting data file @  ./data/final/data.hdf5\n"
     ]
    }
   ],
   "source": [
    "qdd_params = {\n",
    "        \"num_classes\":10,\n",
    "        \"workers\":10,\n",
    "        \"path\":\"./data\",\n",
    "        \"debug\":True,\n",
    "        \"samples_per_class\":20000\n",
    "    }\n",
    "data = qdd(**qdd_params)"
   ]
  },
  {
   "cell_type": "code",
   "execution_count": 28,
   "metadata": {},
   "outputs": [
    {
     "name": "stdout",
     "output_type": "stream",
     "text": [
      "{\n",
      "  \"nose\": 5,\n",
      "  \"van\": 9,\n",
      "  \"angel\": 0,\n",
      "  \"hedgehog\": 2,\n",
      "  \"passport\": 6,\n",
      "  \"skateboard\": 8,\n",
      "  \"fan\": 1,\n",
      "  \"hourglass\": 3,\n",
      "  \"sea turtle\": 7,\n",
      "  \"house\": 4\n",
      "}\n",
      "{\n",
      "  \"[0. 0. 0. 0. 0. 0. 1. 0. 0. 0.]\": \"passport\",\n",
      "  \"[0. 0. 0. 0. 0. 0. 0. 0. 0. 1.]\": \"van\",\n",
      "  \"[0. 0. 1. 0. 0. 0. 0. 0. 0. 0.]\": \"hedgehog\",\n",
      "  \"[0. 0. 0. 0. 0. 1. 0. 0. 0. 0.]\": \"nose\",\n",
      "  \"[0. 0. 0. 0. 1. 0. 0. 0. 0. 0.]\": \"house\",\n",
      "  \"[0. 0. 0. 0. 0. 0. 0. 0. 1. 0.]\": \"skateboard\",\n",
      "  \"[0. 1. 0. 0. 0. 0. 0. 0. 0. 0.]\": \"fan\",\n",
      "  \"[0. 0. 0. 1. 0. 0. 0. 0. 0. 0.]\": \"hourglass\",\n",
      "  \"[1. 0. 0. 0. 0. 0. 0. 0. 0. 0.]\": \"angel\",\n",
      "  \"[0. 0. 0. 0. 0. 0. 0. 1. 0. 0.]\": \"sea turtle\"\n",
      "}\n"
     ]
    }
   ],
   "source": [
    "classes, targets  = data.mapping['classes'], data.mapping['targets']\n",
    "print(json.dumps(classes, indent=2))\n",
    "print(json.dumps(targets, indent=2))"
   ]
  },
  {
   "cell_type": "code",
   "execution_count": 29,
   "metadata": {},
   "outputs": [],
   "source": [
    "train, valid, test = data.splits "
   ]
  },
  {
   "cell_type": "markdown",
   "metadata": {},
   "source": [
    "#### TrainSet"
   ]
  },
  {
   "cell_type": "code",
   "execution_count": null,
   "metadata": {},
   "outputs": [],
   "source": [
    "x, y = train[2]\n",
    "x = x[:10] \n",
    "y = y[:10]\n",
    "x = x * 255\n",
    "x = x.astype(int)"
   ]
  },
  {
   "cell_type": "code",
   "execution_count": null,
   "metadata": {},
   "outputs": [],
   "source": [
    "fig = plt.figure(figsize=(20,20))\n",
    "for i in range(len(x)):\n",
    "    ax = fig.add_subplot(3, 10, i + 1, xticks=[], yticks=[])\n",
    "    ax.imshow(x[i], interpolation=\"gaussian\")\n",
    "\n",
    "for i in range(len(x)):\n",
    "    ax = fig.add_subplot(3, 10, i + 1, xticks=[], yticks=[])\n",
    "    ax.text(1, -1.5,s = targets[str(y[i])])"
   ]
  },
  {
   "cell_type": "markdown",
   "metadata": {},
   "source": [
    "#### Validation Set"
   ]
  },
  {
   "cell_type": "code",
   "execution_count": null,
   "metadata": {},
   "outputs": [],
   "source": [
    "x, y = valid[1]\n",
    "x = x[:10]\n",
    "y= y[:10]\n",
    "x = x * 255\n",
    "x = x.astype(int)"
   ]
  },
  {
   "cell_type": "code",
   "execution_count": null,
   "metadata": {},
   "outputs": [],
   "source": [
    "fig = plt.figure(figsize=(20,20))\n",
    "for i in range(len(x)):\n",
    "    ax = fig.add_subplot(3, 10, i + 1, xticks=[], yticks=[])\n",
    "    ax.imshow(x[i],interpolation=\"gaussian\" )\n",
    "\n",
    "for i in range(len(x)):\n",
    "    ax = fig.add_subplot(3, 10, i + 1, xticks=[], yticks=[])\n",
    "    ax.text(1, -1.5,s = targets[str(y[i])])"
   ]
  },
  {
   "cell_type": "markdown",
   "metadata": {},
   "source": [
    "#### Test Set"
   ]
  },
  {
   "cell_type": "code",
   "execution_count": null,
   "metadata": {},
   "outputs": [],
   "source": [
    "x, y = test[1]\n",
    "x = x[:10] \n",
    "y = y[:10]\n",
    "x = x * 255\n",
    "x = x.astype(int)"
   ]
  },
  {
   "cell_type": "code",
   "execution_count": null,
   "metadata": {},
   "outputs": [],
   "source": [
    "fig = plt.figure(figsize=(20,20))\n",
    "for i in range(len(x)):\n",
    "    ax = fig.add_subplot(3, 10, i + 1, xticks=[], yticks=[])\n",
    "    ax.imshow(x[i],interpolation=\"gaussian\" )\n",
    "\n",
    "for i in range(len(x)):\n",
    "    ax = fig.add_subplot(3, 10, i + 1, xticks=[], yticks=[])\n",
    "    ax.text(1, -1.5,s = targets[str(y[i])])"
   ]
  },
  {
   "cell_type": "code",
   "execution_count": 32,
   "metadata": {},
   "outputs": [],
   "source": [
    "data.clear_files()\n",
    "data.clear_output()"
   ]
  },
  {
   "cell_type": "markdown",
   "metadata": {},
   "source": [
    "#### Creating Data for training models"
   ]
  },
  {
   "cell_type": "code",
   "execution_count": null,
   "metadata": {},
   "outputs": [],
   "source": [
    "qdd_params = {\n",
    "        \"num_classes\":10,\n",
    "        \"workers\":12,\n",
    "        \"path\":\"./data\",\n",
    "        \"debug\":True,\n",
    "        \"split_spot\":80,\n",
    "        \"batch_size\":128\n",
    "    }\n",
    "data = qdd(**qdd_params)"
   ]
  },
  {
   "cell_type": "code",
   "execution_count": 85,
   "metadata": {},
   "outputs": [
    {
     "data": {
      "text/plain": [
       "((921706, 28, 28), (230421, 28, 28), (288027, 28, 28))"
      ]
     },
     "execution_count": 85,
     "metadata": {},
     "output_type": "execute_result"
    }
   ],
   "source": [
    "train,valid,test = data.full_split\n",
    "train[0].shape, valid[0].shape, test[0].shape"
   ]
  },
  {
   "cell_type": "markdown",
   "metadata": {},
   "source": [
    "#### Keras Model"
   ]
  },
  {
   "cell_type": "code",
   "execution_count": 36,
   "metadata": {},
   "outputs": [],
   "source": [
    "seed = 42\n",
    "np.random.seed(seed)"
   ]
  },
  {
   "cell_type": "code",
   "execution_count": 37,
   "metadata": {},
   "outputs": [],
   "source": [
    "from keras import optimizers as kopts\n",
    "\n",
    "koptimizer = {\n",
    "    'rms': kopts.RMSprop,\n",
    "    'sgd': kopts.SGD,\n",
    "    'adam': kopts.Adam\n",
    "}"
   ]
  },
  {
   "cell_type": "code",
   "execution_count": 38,
   "metadata": {},
   "outputs": [],
   "source": [
    "def create_model(layers=(784,), dropout=None, batch_normalizaton=False, l2=None, optimizer='rms', learning_rate=None, initializer=None, activation='relu'):\n",
    "    model = Sequential()\n",
    "    model.add(Flatten(input_shape=(28,28)))\n",
    "    \n",
    "    for units in layers:\n",
    "        layer = Dense(units, activation=activation)\n",
    "        \n",
    "        if l2:\n",
    "            layer.kernel_regularizer = regularizers.l2(l2)\n",
    "        if initializer:\n",
    "            layer.kernel_initializer = initializer\n",
    "            \n",
    "        model.add(layer)\n",
    "        \n",
    "        if batch_normalizaton:\n",
    "            model.add(BatchNormalization())\n",
    "        else:\n",
    "            if dropout:\n",
    "                model.add(Dropout(dropout))\n",
    "    \n",
    "    model_optimizer = koptimizer.get(optimizer)\n",
    "    if learning_rate:\n",
    "        opti = model_optimizer(learning_rate)\n",
    "    else:\n",
    "        opti = model_optimizer()\n",
    "    \n",
    "    model.add(Dense(10,activation=\"softmax\"))\n",
    "    \n",
    "    model.compile(loss='categorical_crossentropy', optimizer=opti, metrics=['accuracy'])\n",
    "    \n",
    "    return model"
   ]
  },
  {
   "cell_type": "code",
   "execution_count": 39,
   "metadata": {},
   "outputs": [],
   "source": [
    "'''layers = [\n",
    "    (512,),\n",
    "    (784,),\n",
    "    (1000,),\n",
    "    (100, 100),\n",
    "    (512, 512),\n",
    "    (784, 784),\n",
    "    (512, 100),\n",
    "    (784, 100)   \n",
    "]'''\n",
    "layers = [\n",
    "    (784,),\n",
    "    (100, 100),\n",
    "    (512, 512),\n",
    "    (784, 784),\n",
    "    (512, 100),\n",
    "    (784, 100)  \n",
    "]\n",
    "\n",
    "m_optimizers = ['rms', 'adam', 'sgd']\n",
    "batch_normalizaton = [True, False]\n",
    "dropouts = [None, 0.1, 0.2, 0.3, 0.4, 0.5]\n",
    "l2 = [None, 0.0001, 0.001, .01]\n",
    "learning_rate = [0.0001, 0.001]\n",
    "initializer = ['glorot_uniform', 'he_normal', 'he_uniform']\n",
    "epochs = [10, 50, 100, 150]\n",
    "batch_size = [10, 20, 40, 60, 80, 100]\n"
   ]
  },
  {
   "cell_type": "markdown",
   "metadata": {},
   "source": [
    "##### Pluggining in Tensorboard to KerasClassifier"
   ]
  },
  {
   "cell_type": "code",
   "execution_count": null,
   "metadata": {},
   "outputs": [],
   "source": [
    "from keras.wrappers.scikit_learn import KerasClassifier\n",
    "from sklearn.model_selection import GridSearchCV\n",
    "\n",
    "class KerasClassifierTensorBoard(KerasClassifier):\n",
    "    def __init__(self, *args, **kwargs):\n",
    "        super().__init__(*args, **kwargs)\n",
    "    \n",
    "    def fit(self, x, y, log_dir=None, **kwargs):\n",
    "        cbs = None\n",
    "        if log_dir is not None:\n",
    "            params = self.get_params()\n",
    "            conf = \",\".join(\"{}={}\".format(k, params[k])\n",
    "                            for k in sorted(params))\n",
    "            conf_dir = os.path.join(log_dir, conf)\n",
    "            cbs = [TensorBoard(log_dir=conf_dir, histogram_freq=1, batch_size=32, write_graph=True, \n",
    "                                                        write_grads=True, write_images=True, embeddings_freq=0, embeddings_layer_names=None,\n",
    "                                                        embeddings_metadata=None, embeddings_data=None, update_freq='epoch')]\n",
    "        super(KerasClassifierTensorBoard, self).fit(x, y, callbacks=cbs, **kwargs)\n",
    "        "
   ]
  },
  {
   "cell_type": "code",
   "execution_count": null,
   "metadata": {},
   "outputs": [],
   "source": [
    "model = KerasClassifierTensorBoard(build_fn=create_model, epochs=10, verbose=1)"
   ]
  },
  {
   "cell_type": "markdown",
   "metadata": {},
   "source": [
    "##### Grid Search of layers and neurons"
   ]
  },
  {
   "cell_type": "code",
   "execution_count": null,
   "metadata": {},
   "outputs": [],
   "source": [
    "params = {\n",
    "    \"layers\":layers,\n",
    "    \"learning_rate\":learning_rate\n",
    "}\n",
    "grid = GridSearchCV(estimator=model, param_grid=params, n_jobs=-1)\n"
   ]
  },
  {
   "cell_type": "code",
   "execution_count": null,
   "metadata": {},
   "outputs": [],
   "source": [
    "X, Y = train"
   ]
  },
  {
   "cell_type": "code",
   "execution_count": null,
   "metadata": {},
   "outputs": [],
   "source": [
    "result = grid.fit(X, Y, log_dir='./logs', shuffle=True, validation_data=valid)"
   ]
  },
  {
   "cell_type": "code",
   "execution_count": 141,
   "metadata": {},
   "outputs": [
    {
     "data": {
      "text/plain": [
       "(0.16400000000186266, {'layers': (784,), 'learning_rate': 0.001})"
      ]
     },
     "execution_count": 141,
     "metadata": {},
     "output_type": "execute_result"
    }
   ],
   "source": [
    "result.best_score_ , result.best_params_"
   ]
  },
  {
   "cell_type": "code",
   "execution_count": 142,
   "metadata": {},
   "outputs": [
    {
     "name": "stdout",
     "output_type": "stream",
     "text": [
      "0.161125 (0.110517) with: {'layers': (784,), 'learning_rate': 0.0001}\n",
      "0.164000 (0.113880) with: {'layers': (784,), 'learning_rate': 0.001}\n",
      "0.150695 (0.101308) with: {'layers': (100, 100), 'learning_rate': 0.0001}\n",
      "0.153563 (0.097274) with: {'layers': (100, 100), 'learning_rate': 0.001}\n",
      "0.159547 (0.103268) with: {'layers': (512, 512), 'learning_rate': 0.0001}\n",
      "0.116195 (0.048189) with: {'layers': (512, 512), 'learning_rate': 0.001}\n",
      "0.160516 (0.105176) with: {'layers': (784, 784), 'learning_rate': 0.0001}\n",
      "0.108234 (0.061091) with: {'layers': (784, 784), 'learning_rate': 0.001}\n",
      "0.154664 (0.097316) with: {'layers': (512, 100), 'learning_rate': 0.0001}\n",
      "0.110359 (0.043579) with: {'layers': (512, 100), 'learning_rate': 0.001}\n",
      "0.161328 (0.107268) with: {'layers': (784, 100), 'learning_rate': 0.0001}\n",
      "0.154141 (0.111553) with: {'layers': (784, 100), 'learning_rate': 0.001}\n"
     ]
    }
   ],
   "source": [
    "means = result.cv_results_['mean_test_score']\n",
    "stds = result.cv_results_['std_test_score']\n",
    "params = result.cv_results_['params']\n",
    "for mean, stdev, param in zip(means, stds, params):\n",
    "    print(\"%f (%f) with: %r\" % (mean, stdev, param))"
   ]
  },
  {
   "cell_type": "code",
   "execution_count": 149,
   "metadata": {},
   "outputs": [
    {
     "data": {
      "text/plain": [
       "{'mean_fit_time': array([1724.53827373, 1715.96600294, 1975.39900772, 1964.21502725,\n",
       "        2282.13483564, 2252.79083872, 2167.25655715, 2153.49948899,\n",
       "        1815.86613337, 1796.27667236, 1782.69072008, 1770.31185834]),\n",
       " 'mean_score_time': array([47.56058693, 48.03537806, 30.44440428, 26.67042899, 45.21035973,\n",
       "        47.04761998, 37.50975561, 37.76122038, 49.91990701, 45.11939128,\n",
       "        21.95404355, 17.96037467]),\n",
       " 'mean_test_score': array([0.161125  , 0.164     , 0.15069531, 0.1535625 , 0.15954688,\n",
       "        0.11619531, 0.16051563, 0.10823438, 0.15466406, 0.11035938,\n",
       "        0.16132813, 0.15414063]),\n",
       " 'param_layers': masked_array(data=[(784,), (784,), (100, 100), (100, 100), (512, 512),\n",
       "                    (512, 512), (784, 784), (784, 784), (512, 100),\n",
       "                    (512, 100), (784, 100), (784, 100)],\n",
       "              mask=[False, False, False, False, False, False, False, False,\n",
       "                    False, False, False, False],\n",
       "        fill_value='?',\n",
       "             dtype=object),\n",
       " 'param_learning_rate': masked_array(data=[0.0001, 0.001, 0.0001, 0.001, 0.0001, 0.001, 0.0001,\n",
       "                    0.001, 0.0001, 0.001, 0.0001, 0.001],\n",
       "              mask=[False, False, False, False, False, False, False, False,\n",
       "                    False, False, False, False],\n",
       "        fill_value='?',\n",
       "             dtype=object),\n",
       " 'params': [{'layers': (784,), 'learning_rate': 0.0001},\n",
       "  {'layers': (784,), 'learning_rate': 0.001},\n",
       "  {'layers': (100, 100), 'learning_rate': 0.0001},\n",
       "  {'layers': (100, 100), 'learning_rate': 0.001},\n",
       "  {'layers': (512, 512), 'learning_rate': 0.0001},\n",
       "  {'layers': (512, 512), 'learning_rate': 0.001},\n",
       "  {'layers': (784, 784), 'learning_rate': 0.0001},\n",
       "  {'layers': (784, 784), 'learning_rate': 0.001},\n",
       "  {'layers': (512, 100), 'learning_rate': 0.0001},\n",
       "  {'layers': (512, 100), 'learning_rate': 0.001},\n",
       "  {'layers': (784, 100), 'learning_rate': 0.0001},\n",
       "  {'layers': (784, 100), 'learning_rate': 0.001}],\n",
       " 'rank_test_score': array([ 3,  1,  9,  8,  5, 10,  4, 12,  6, 11,  2,  7], dtype=int32),\n",
       " 'split0_test_score': array([0.0794525 , 0.0794525 , 0.07544472, 0.08317904, 0.08481965,\n",
       "        0.07928844, 0.08221811, 0.05078867, 0.08643682, 0.08029625,\n",
       "        0.08231186, 0.06452293]),\n",
       " 'split1_test_score': array([0.31736471, 0.32498184, 0.29390395, 0.29111491, 0.30557574,\n",
       "        0.18426419, 0.30918508, 0.19284224, 0.29228678, 0.17198303,\n",
       "        0.31298193, 0.31138819]),\n",
       " 'split2_test_score': array([0.08655604, 0.08756387, 0.08273567, 0.08639197, 0.08824357,\n",
       "        0.08503258, 0.09014203, 0.08107158, 0.08526696, 0.07879811,\n",
       "        0.08868889, 0.08650916]),\n",
       " 'std_fit_time': array([ 1.71334786, 15.33858928,  8.77614499,  4.65843868, 14.50102384,\n",
       "        32.94257045, 12.11227428,  2.6324755 ,  5.21797016, 31.92725213,\n",
       "        17.164102  , 12.86919246]),\n",
       " 'std_score_time': array([0.67714778, 1.33910234, 2.1693679 , 1.46210833, 1.64978045,\n",
       "        2.49502159, 0.59871706, 0.69826668, 4.3104406 , 7.74544028,\n",
       "        7.35478377, 5.14115166]),\n",
       " 'std_test_score': array([0.11051686, 0.11388017, 0.10130813, 0.09727366, 0.10326806,\n",
       "        0.04818934, 0.10517556, 0.06109116, 0.0973157 , 0.04357905,\n",
       "        0.10726766, 0.11155317])}"
      ]
     },
     "execution_count": 149,
     "metadata": {},
     "output_type": "execute_result"
    }
   ],
   "source": [
    "result.cv_results_"
   ]
  },
  {
   "cell_type": "markdown",
   "metadata": {},
   "source": [
    "#### Training a Network with Single Hidden Layer and 784 units"
   ]
  },
  {
   "cell_type": "code",
   "execution_count": 140,
   "metadata": {},
   "outputs": [],
   "source": [
    "train, valid, test = data.splits"
   ]
  },
  {
   "cell_type": "code",
   "execution_count": 166,
   "metadata": {},
   "outputs": [
    {
     "name": "stderr",
     "output_type": "stream",
     "text": [
      "INFO:plaidml:Opening device \"metal_amd_radeon_pro_555x.0\"\n",
      "I0721 01:47:18.780150 140735688254336 library.py:135] Opening device \"metal_amd_radeon_pro_555x.0\"\n"
     ]
    },
    {
     "name": "stdout",
     "output_type": "stream",
     "text": [
      "Epoch 1/2\n"
     ]
    },
    {
     "name": "stderr",
     "output_type": "stream",
     "text": [
      "/Users/tarik.setia/miniconda3/envs/keras/lib/python3.5/site-packages/numpy/ctypeslib.py:363: RuntimeWarning: A builtin ctypes object gave a PEP3118 format string that does not match its itemsize, so a best-guess will be made of the data type. Newer versions of python may behave correctly.\n",
      "  return array(obj, copy=False)\n",
      "/Users/tarik.setia/miniconda3/envs/keras/lib/python3.5/site-packages/keras/callbacks.py:752: UserWarning: You are not using the TensorFlow backend. histogram_freq was set to 0\n",
      "  warnings.warn('You are not using the TensorFlow backend. '\n",
      "/Users/tarik.setia/miniconda3/envs/keras/lib/python3.5/site-packages/keras/callbacks.py:756: UserWarning: You are not using the TensorFlow backend. write_graph was set to False\n",
      "  warnings.warn('You are not using the TensorFlow backend. '\n",
      "/Users/tarik.setia/miniconda3/envs/keras/lib/python3.5/site-packages/keras/callbacks.py:760: UserWarning: You are not using the TensorFlow backend. write_images was set to False\n",
      "  warnings.warn('You are not using the TensorFlow backend. '\n"
     ]
    },
    {
     "name": "stdout",
     "output_type": "stream",
     "text": [
      "7200/7200 [==============================] - 643s 89ms/step - loss: 0.7185 - acc: 0.7941 - val_loss: 0.6787 - val_acc: 0.8378\n",
      "Epoch 2/2\n",
      "7200/7200 [==============================] - 569s 79ms/step - loss: 0.5330 - acc: 0.8595 - val_loss: 0.5146 - val_acc: 0.8628\n"
     ]
    }
   ],
   "source": [
    "import keras\n",
    "keras.backend.clear_session()\n",
    "model = create_model(layers=(784,), learning_rate=0.0001)\n",
    "cbs = [TensorBoard(log_dir=\"./logs/MLP_With_Epochs=2\", histogram_freq=1, batch_size=32, write_graph=True, \n",
    "                    write_grads=True, write_images=True, embeddings_freq=0, embeddings_layer_names=None,\n",
    "                    embeddings_metadata=None, embeddings_data=None, update_freq='batch')]\n",
    "history = model.fit_generator(generator=train ,validation_data=valid, epochs=2, callbacks=cbs, use_multiprocessing=True )"
   ]
  },
  {
   "cell_type": "code",
   "execution_count": 167,
   "metadata": {},
   "outputs": [
    {
     "name": "stdout",
     "output_type": "stream",
     "text": [
      "2250/2250 [==============================] - 199s 88ms/step\n"
     ]
    },
    {
     "ename": "NameError",
     "evalue": "name 'socres' is not defined",
     "output_type": "error",
     "traceback": [
      "\u001b[0;31m---------------------------------------------------------------------------\u001b[0m",
      "\u001b[0;31mNameError\u001b[0m                                 Traceback (most recent call last)",
      "\u001b[0;32m<ipython-input-167-b847e5d88b04>\u001b[0m in \u001b[0;36m<module>\u001b[0;34m()\u001b[0m\n\u001b[1;32m      1\u001b[0m \u001b[0mscores\u001b[0m \u001b[0;34m=\u001b[0m \u001b[0mmodel\u001b[0m\u001b[0;34m.\u001b[0m\u001b[0mevaluate_generator\u001b[0m\u001b[0;34m(\u001b[0m\u001b[0mtest\u001b[0m\u001b[0;34m,\u001b[0m \u001b[0mverbose\u001b[0m\u001b[0;34m=\u001b[0m\u001b[0;36m1\u001b[0m\u001b[0;34m)\u001b[0m\u001b[0;34m\u001b[0m\u001b[0m\n\u001b[0;32m----> 2\u001b[0;31m \u001b[0msocres\u001b[0m\u001b[0;34m\u001b[0m\u001b[0m\n\u001b[0m",
      "\u001b[0;31mNameError\u001b[0m: name 'socres' is not defined"
     ]
    }
   ],
   "source": [
    "scores = model.evaluate_generator(test, verbose=1)"
   ]
  },
  {
   "cell_type": "code",
   "execution_count": 168,
   "metadata": {},
   "outputs": [
    {
     "data": {
      "text/plain": [
       "[0.46486404279205534, 0.8692083333333334]"
      ]
     },
     "execution_count": 168,
     "metadata": {},
     "output_type": "execute_result"
    }
   ],
   "source": [
    "scores\n"
   ]
  },
  {
   "cell_type": "code",
   "execution_count": 169,
   "metadata": {},
   "outputs": [
    {
     "name": "stderr",
     "output_type": "stream",
     "text": [
      "INFO:plaidml:Opening device \"metal_amd_radeon_pro_555x.0\"\n",
      "I0721 02:11:43.395495 140735688254336 library.py:135] Opening device \"metal_amd_radeon_pro_555x.0\"\n",
      "/Users/tarik.setia/miniconda3/envs/keras/lib/python3.5/site-packages/numpy/ctypeslib.py:363: RuntimeWarning: A builtin ctypes object gave a PEP3118 format string that does not match its itemsize, so a best-guess will be made of the data type. Newer versions of python may behave correctly.\n",
      "  return array(obj, copy=False)\n"
     ]
    }
   ],
   "source": [
    "import keras\n",
    "keras.backend.clear_session()\n",
    "model = create_model(layers=(784,), learning_rate=0.0001, l2=0.001)"
   ]
  },
  {
   "cell_type": "code",
   "execution_count": 145,
   "metadata": {},
   "outputs": [
    {
     "name": "stderr",
     "output_type": "stream",
     "text": [
      "/Users/tarik.setia/miniconda3/envs/keras/lib/python3.5/site-packages/keras/callbacks.py:752: UserWarning: You are not using the TensorFlow backend. histogram_freq was set to 0\n",
      "  warnings.warn('You are not using the TensorFlow backend. '\n",
      "/Users/tarik.setia/miniconda3/envs/keras/lib/python3.5/site-packages/keras/callbacks.py:756: UserWarning: You are not using the TensorFlow backend. write_graph was set to False\n",
      "  warnings.warn('You are not using the TensorFlow backend. '\n",
      "/Users/tarik.setia/miniconda3/envs/keras/lib/python3.5/site-packages/keras/callbacks.py:760: UserWarning: You are not using the TensorFlow backend. write_images was set to False\n",
      "  warnings.warn('You are not using the TensorFlow backend. '\n"
     ]
    }
   ],
   "source": [
    "cbs = [TensorBoard(log_dir=\"./logs/epochs=2generator\", histogram_freq=1, batch_size=32, write_graph=True, \n",
    "                    write_grads=True, write_images=True, embeddings_freq=0, embeddings_layer_names=None,\n",
    "                    embeddings_metadata=None, embeddings_data=None, update_freq='batch')]"
   ]
  },
  {
   "cell_type": "code",
   "execution_count": 146,
   "metadata": {},
   "outputs": [
    {
     "name": "stdout",
     "output_type": "stream",
     "text": [
      "Epoch 1/10\n",
      "7200/7200 [==============================] - 618s 86ms/step - loss: 0.9877 - acc: 0.7855 - val_loss: 0.7955 - val_acc: 0.8243\n",
      "Epoch 2/10\n",
      "7200/7200 [==============================] - 586s 81ms/step - loss: 0.6491 - acc: 0.8438 - val_loss: 0.7214 - val_acc: 0.8462\n",
      "Epoch 3/10\n",
      "7200/7200 [==============================] - 565s 78ms/step - loss: 0.5896 - acc: 0.8591 - val_loss: 0.6258 - val_acc: 0.8580\n",
      "Epoch 4/10\n",
      "7200/7200 [==============================] - 830s 115ms/step - loss: 0.5557 - acc: 0.8678 - val_loss: 0.6476 - val_acc: 0.8653\n",
      "Epoch 5/10\n",
      "7200/7200 [==============================] - 527s 73ms/step - loss: 0.5351 - acc: 0.8738 - val_loss: 0.5428 - val_acc: 0.8705\n",
      "Epoch 6/10\n",
      "7200/7200 [==============================] - 496s 69ms/step - loss: 0.5139 - acc: 0.8786 - val_loss: 0.5970 - val_acc: 0.8750\n",
      "Epoch 7/10\n",
      "7200/7200 [==============================] - 490s 68ms/step - loss: 0.4983 - acc: 0.8824 - val_loss: 0.5981 - val_acc: 0.8766\n",
      "Epoch 8/10\n",
      "7200/7200 [==============================] - 477s 66ms/step - loss: 0.4969 - acc: 0.8856 - val_loss: 0.6032 - val_acc: 0.8809\n",
      "Epoch 9/10\n",
      "7200/7200 [==============================] - 537s 75ms/step - loss: 0.4855 - acc: 0.8884 - val_loss: 0.5676 - val_acc: 0.8838\n",
      "Epoch 10/10\n",
      "7200/7200 [==============================] - 590s 82ms/step - loss: 0.4893 - acc: 0.8909 - val_loss: 0.5112 - val_acc: 0.8854\n"
     ]
    }
   ],
   "source": [
    "history = model.fit_generator(generator=train ,validation_data=valid, epochs=10, callbacks=cbs, use_multiprocessing=True )"
   ]
  },
  {
   "cell_type": "code",
   "execution_count": 162,
   "metadata": {},
   "outputs": [
    {
     "data": {
      "text/plain": [
       "(0, 1)"
      ]
     },
     "execution_count": 162,
     "metadata": {},
     "output_type": "execute_result"
    },
    {
     "data": {
      "image/png": "[encoded data removed]",
      "text/plain": [
       "<Figure size 576x360 with 1 Axes>"
      ]
     },
     "metadata": {
      "needs_background": "light"
     },
     "output_type": "display_data"
    }
   ],
   "source": [
    "pd.DataFrame(history.history).plot(figsize=(8,5))\n",
    "plt.grid(True)\n",
    "plt.gca().set_ylim(0, 1)"
   ]
  },
  {
   "cell_type": "code",
   "execution_count": 161,
   "metadata": {},
   "outputs": [],
   "source": [
    "model.save('MLP_best.h5')"
   ]
  },
  {
   "cell_type": "code",
   "execution_count": 150,
   "metadata": {},
   "outputs": [
    {
     "name": "stdout",
     "output_type": "stream",
     "text": [
      "2250/2250 [==============================] - 140s 62ms/step\n"
     ]
    }
   ],
   "source": [
    "scores = model.evaluate_generator(test, verbose=1)"
   ]
  },
  {
   "cell_type": "code",
   "execution_count": 151,
   "metadata": {},
   "outputs": [
    {
     "data": {
      "text/plain": [
       "[0.4670979449351629, 0.8884479166666667]"
      ]
     },
     "execution_count": 151,
     "metadata": {},
     "output_type": "execute_result"
    }
   ],
   "source": [
    "scores"
   ]
  },
  {
   "cell_type": "code",
   "execution_count": 106,
   "metadata": {},
   "outputs": [],
   "source": [
    "_, _, tst = data.splits"
   ]
  },
  {
   "cell_type": "code",
   "execution_count": 152,
   "metadata": {},
   "outputs": [],
   "source": [
    "x, y  = test[0]"
   ]
  },
  {
   "cell_type": "code",
   "execution_count": 153,
   "metadata": {},
   "outputs": [
    {
     "data": {
      "text/plain": [
       "array([2, 5, 6, 6, 4, 4, 5, 7, 4, 9, 0, 9, 6, 7, 7, 0, 5, 5, 0, 7, 9, 1,\n",
       "       3, 5, 0, 9, 4, 3, 6, 0, 3, 5, 9, 5, 6, 8, 6, 0, 5, 8, 2, 7, 4, 5,\n",
       "       1, 4, 1, 3, 9, 3, 5, 1, 2, 8, 2, 7, 2, 4, 8, 3, 9, 4, 3, 9, 1, 7,\n",
       "       1, 3, 7, 1, 4, 5, 1, 9, 5, 8, 3, 6, 0, 8, 6, 1, 0, 0, 5, 3, 8, 5,\n",
       "       2, 1, 1, 1, 6, 7, 8, 2, 9, 2, 7, 0, 9, 4, 0, 5, 7, 4, 0, 5, 2, 2,\n",
       "       8, 3, 9, 0, 0, 0, 2, 1, 6, 7, 9, 2, 6, 5, 8, 7, 6, 6])"
      ]
     },
     "execution_count": 153,
     "metadata": {},
     "output_type": "execute_result"
    }
   ],
   "source": [
    "model.predict_classes(x)"
   ]
  },
  {
   "cell_type": "code",
   "execution_count": 154,
   "metadata": {},
   "outputs": [
    {
     "data": {
      "text/plain": [
       "array([[0., 0., 1., ..., 0., 0., 0.],\n",
       "       [0., 0., 0., ..., 0., 0., 0.],\n",
       "       [0., 0., 0., ..., 0., 0., 1.],\n",
       "       ...,\n",
       "       [0., 0., 0., ..., 1., 0., 0.],\n",
       "       [0., 0., 0., ..., 0., 0., 0.],\n",
       "       [0., 0., 0., ..., 0., 0., 0.]], dtype=float32)"
      ]
     },
     "execution_count": 154,
     "metadata": {},
     "output_type": "execute_result"
    }
   ],
   "source": [
    "y"
   ]
  },
  {
   "cell_type": "code",
   "execution_count": 155,
   "metadata": {},
   "outputs": [
    {
     "data": {
      "text/plain": [
       "{'angel': 0,\n",
       " 'fan': 1,\n",
       " 'hedgehog': 2,\n",
       " 'hourglass': 3,\n",
       " 'house': 4,\n",
       " 'nose': 5,\n",
       " 'passport': 6,\n",
       " 'sea turtle': 7,\n",
       " 'skateboard': 8,\n",
       " 'van': 9}"
      ]
     },
     "execution_count": 155,
     "metadata": {},
     "output_type": "execute_result"
    }
   ],
   "source": [
    "target = data.mapping['targets']\n",
    "classes =data.mapping['classes']\n",
    "classes"
   ]
  },
  {
   "cell_type": "code",
   "execution_count": 156,
   "metadata": {},
   "outputs": [],
   "source": [
    "Y = [target[str(i)] for i in y]\n"
   ]
  },
  {
   "cell_type": "code",
   "execution_count": 157,
   "metadata": {},
   "outputs": [],
   "source": [
    "Y = [classes[i] for i in Y]"
   ]
  },
  {
   "cell_type": "code",
   "execution_count": 159,
   "metadata": {},
   "outputs": [
    {
     "data": {
      "text/plain": [
       "array([2, 5, 9, 9, 4, 4, 5, 2, 4, 9, 0, 9, 0, 7, 7, 6, 5, 5, 0, 7, 9, 1,\n",
       "       3, 5, 7, 9, 4, 3, 6, 6, 3, 5, 9, 5, 6, 8, 6, 3, 5, 8, 2, 2, 4, 5,\n",
       "       1, 4, 1, 3, 9, 3, 5, 1, 2, 8, 2, 7, 2, 4, 8, 3, 9, 4, 3, 9, 1, 7,\n",
       "       1, 7, 0, 1, 4, 3, 6, 9, 5, 8, 3, 6, 0, 8, 6, 1, 7, 0, 5, 3, 8, 5,\n",
       "       2, 1, 1, 1, 2, 7, 8, 2, 5, 2, 7, 0, 9, 4, 0, 5, 7, 4, 0, 5, 1, 2,\n",
       "       8, 3, 9, 0, 0, 0, 2, 1, 6, 7, 9, 2, 6, 5, 8, 7, 6, 6])"
      ]
     },
     "execution_count": 159,
     "metadata": {},
     "output_type": "execute_result"
    }
   ],
   "source": [
    "np.array(Y)"
   ]
  },
  {
   "cell_type": "code",
   "execution_count": 160,
   "metadata": {},
   "outputs": [
    {
     "data": {
      "text/plain": [
       "{'classes': {'angel': 0,\n",
       "  'fan': 1,\n",
       "  'hedgehog': 2,\n",
       "  'hourglass': 3,\n",
       "  'house': 4,\n",
       "  'nose': 5,\n",
       "  'passport': 6,\n",
       "  'sea turtle': 7,\n",
       "  'skateboard': 8,\n",
       "  'van': 9},\n",
       " 'targets': {'[0. 0. 0. 0. 0. 0. 0. 0. 0. 1.]': 'van',\n",
       "  '[0. 0. 0. 0. 0. 0. 0. 0. 1. 0.]': 'skateboard',\n",
       "  '[0. 0. 0. 0. 0. 0. 0. 1. 0. 0.]': 'sea turtle',\n",
       "  '[0. 0. 0. 0. 0. 0. 1. 0. 0. 0.]': 'passport',\n",
       "  '[0. 0. 0. 0. 0. 1. 0. 0. 0. 0.]': 'nose',\n",
       "  '[0. 0. 0. 0. 1. 0. 0. 0. 0. 0.]': 'house',\n",
       "  '[0. 0. 0. 1. 0. 0. 0. 0. 0. 0.]': 'hourglass',\n",
       "  '[0. 0. 1. 0. 0. 0. 0. 0. 0. 0.]': 'hedgehog',\n",
       "  '[0. 1. 0. 0. 0. 0. 0. 0. 0. 0.]': 'fan',\n",
       "  '[1. 0. 0. 0. 0. 0. 0. 0. 0. 0.]': 'angel'}}"
      ]
     },
     "execution_count": 160,
     "metadata": {},
     "output_type": "execute_result"
    }
   ],
   "source": [
    "data.mapping"
   ]
  },
  {
   "cell_type": "code",
   "execution_count": null,
   "metadata": {},
   "outputs": [],
   "source": []
  }
 ],
 "metadata": {
  "kernelspec": {
   "display_name": "Python 3",
   "language": "python",
   "name": "python3"
  },
  "language_info": {
   "codemirror_mode": {
    "name": "ipython",
    "version": 3
   },
   "file_extension": ".py",
   "mimetype": "text/x-python",
   "name": "python",
   "nbconvert_exporter": "python",
   "pygments_lexer": "ipython3",
   "version": "3.5.6"
  }
 },
 "nbformat": 4,
 "nbformat_minor": 2
}
